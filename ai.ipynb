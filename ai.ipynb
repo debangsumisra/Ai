{
 "cells": [
  {
   "cell_type": "code",
   "execution_count": 1,
   "id": "af7ffd12",
   "metadata": {},
   "outputs": [],
   "source": [
    "dict1={\"U\":[\"V\",\"X\"],\"V\":[\"Y\"],\"Y\":[\"X\"],\"X\":[\"V\"],\"W\":[\"Y\",\"Z\"],\"Z\":[\"X\"]}\n"
   ]
  },
  {
   "cell_type": "code",
   "execution_count": 22,
   "id": "c8eb609b",
   "metadata": {},
   "outputs": [],
   "source": [
    "def dfs_visit(u,graph,color,parent,distance):\n",
    "    global time1\n",
    "    color[u]=\"gray\"\n",
    "    time1+=1\n",
    "    print(\"discovery time of\",u,\"is\",time1)\n",
    "    for v in graph[u]:\n",
    "        if color[v]==\"white\":\n",
    "            parent[v]=u\n",
    "            distance[v]=distance[u]+1\n",
    "            dfs_visit(v, graph, color, parent,distance)\n",
    "    color[u]=\"black\"\n",
    "    time1+=1\n",
    "    print(\"finishing time of\",u,\"is\",time1)\n",
    "    print(\"distance of u is\",distance)\n"
   ]
  },
  {
   "cell_type": "code",
   "execution_count": 25,
   "id": "a323b749",
   "metadata": {},
   "outputs": [],
   "source": [
    "def dfs(graph):\n",
    "    color={u:\"white\"for u in graph}\n",
    "    parent={u:None for u in graph}\n",
    "    distance={u:float('inf')for u in graph}\n",
    "    time1=0\n",
    "    for u in graph:\n",
    "        if color[u]==\"white\":\n",
    "            distance[u]=0  # Set distance of root/start node to 0\n",
    "            dfs_visit(u,graph,color,parent,distance)\n"
   ]
  },
  {
   "cell_type": "code",
   "execution_count": null,
   "id": "1af50aef",
   "metadata": {},
   "outputs": [],
   "source": [
    "def dfs_path(graph, start, destination):\n",
    "    color = {u: \"white\" for u in graph}\n",
    "    parent = {u: None for u in graph}\n",
    "    distance = {u: float('inf') for u in graph}\n",
    "    path = []\n",
    "    found = [False]\n",
    "\n",
    "    def dfs_visit(u):\n",
    "        color[u] = \"gray\"\n",
    "        for v in graph[u]:\n",
    "            if color[v] == \"white\":\n",
    "                parent[v] = u\n",
    "                distance[v] = distance[u] + 1\n",
    "                if v == destination:\n",
    "                    found[0] = True\n",
    "                    return\n",
    "                dfs_visit(v)\n",
    "                if found[0]:\n",
    "                    return\n",
    "        color[u] = \"black\"\n",
    "\n",
    "    distance[start] = 0\n",
    "    dfs_visit(start)\n",
    "    if distance[destination] == float('inf'):\n",
    "        return None, []  # No path exists\n",
    "    # Reconstruct path\n",
    "    current = destination\n",
    "    while current is not None:\n",
    "        path.append(current)\n",
    "        current = parent[current]\n",
    "    path.reverse()\n",
    "    return distance[destination], path\n"
   ]
  },
  {
   "cell_type": "code",
   "execution_count": 26,
   "id": "2018be92",
   "metadata": {},
   "outputs": [
    {
     "name": "stdout",
     "output_type": "stream",
     "text": [
      "discovery time of U is 53\n",
      "discovery time of V is 54\n",
      "discovery time of Y is 55\n",
      "discovery time of X is 56\n",
      "finishing time of X is 57\n",
      "distance of u is {'U': 0, 'V': 1, 'Y': 2, 'X': 3, 'W': inf, 'Z': inf}\n",
      "finishing time of Y is 58\n",
      "distance of u is {'U': 0, 'V': 1, 'Y': 2, 'X': 3, 'W': inf, 'Z': inf}\n",
      "finishing time of V is 59\n",
      "distance of u is {'U': 0, 'V': 1, 'Y': 2, 'X': 3, 'W': inf, 'Z': inf}\n",
      "finishing time of U is 60\n",
      "distance of u is {'U': 0, 'V': 1, 'Y': 2, 'X': 3, 'W': inf, 'Z': inf}\n",
      "discovery time of W is 61\n",
      "discovery time of Z is 62\n",
      "finishing time of Z is 63\n",
      "distance of u is {'U': 0, 'V': 1, 'Y': 2, 'X': 3, 'W': 0, 'Z': 1}\n",
      "finishing time of W is 64\n",
      "distance of u is {'U': 0, 'V': 1, 'Y': 2, 'X': 3, 'W': 0, 'Z': 1}\n"
     ]
    }
   ],
   "source": [
    "dfs(dict1)"
   ]
  },
  {
   "cell_type": "code",
   "execution_count": 14,
   "id": "4aeabcad",
   "metadata": {},
   "outputs": [],
   "source": [
    "def BFS(graph, start):\n",
    "    color = {u: \"WHITE\" for u in graph}\n",
    "    distance = {u: float(\"inf\") for u in graph}\n",
    "    parent = {u: None for u in graph}\n",
    "    \n",
    "    color[start] = \"GRAY\"\n",
    "    distance[start] = 0\n",
    "    parent[start] = None\n",
    "    \n",
    "    Q = []\n",
    "    Q.append(start)\n",
    "    \n",
    "    while Q:\n",
    "        u = Q.pop(0)\n",
    "        for v in graph[u]:\n",
    "            if color[v] == \"WHITE\":\n",
    "                color[v] = \"GRAY\"\n",
    "                distance[v] = distance[u] + 1\n",
    "                parent[v] = u\n",
    "                Q.append(v)\n",
    "        color[u] = \"BLACK\"\n",
    "\n",
    "    return distance, parent"
   ]
  },
  {
   "cell_type": "code",
   "execution_count": 27,
   "id": "b60e320f",
   "metadata": {},
   "outputs": [
    {
     "data": {
      "text/plain": [
       "(1, ['U', 'X'])"
      ]
     },
     "execution_count": 27,
     "metadata": {},
     "output_type": "execute_result"
    }
   ],
   "source": [
    "def bfs_path(graph, start, destination):\n",
    "    distance, parent = BFS(graph, start)\n",
    "    path = []\n",
    "    if distance[destination] == float('inf'):\n",
    "        return None, []  \n",
    "  \n",
    "    current = destination\n",
    "    while current is not None:\n",
    "        path.append(current)\n",
    "        current = parent[current]\n",
    "    path.reverse()\n",
    "    return distance[destination], path\n",
    "bfs_path(dict1,\"U\",\"X\")\n"
   ]
  },
  {
   "cell_type": "code",
   "execution_count": null,
   "id": "93993b20",
   "metadata": {},
   "outputs": [],
   "source": [
    "def dfs_path(graph, start, destination):\n",
    "    color = {u: \"white\" for u in graph}\n",
    "    parent = {u: None for u in graph}\n",
    "    distance = {u: float('inf') for u in graph}\n",
    "    path = []\n",
    "    found = [False]\n",
    "\n",
    "    def dfs_visit(u):\n",
    "        color[u] = \"gray\"\n",
    "        for v in graph[u]:\n",
    "            if color[v] == \"white\":\n",
    "                parent[v] = u\n",
    "                distance[v] = distance[u] + 1\n",
    "                if v == destination:\n",
    "                    found[0] = True\n",
    "                    return\n",
    "                dfs_visit(v)\n",
    "                if found[0]:\n",
    "                    return\n",
    "        color[u] = \"black\"\n",
    "\n",
    "    distance[start] = 0\n",
    "    dfs_visit(start)\n",
    "    if distance[destination] == float('inf'):\n",
    "        return None, []  # No path exists\n",
    "    current = destination\n",
    "    while current is not None:\n",
    "        path.append(current)\n",
    "        current = parent[current]\n",
    "    path.reverse()\n",
    "    return distance[destination], path\n",
    "\n",
    "dfs_path(dict1, \"U\", \"X\")\n"
   ]
  }
 ],
 "metadata": {
  "kernelspec": {
   "display_name": "Python 3",
   "language": "python",
   "name": "python3"
  },
  "language_info": {
   "codemirror_mode": {
    "name": "ipython",
    "version": 3
   },
   "file_extension": ".py",
   "mimetype": "text/x-python",
   "name": "python",
   "nbconvert_exporter": "python",
   "pygments_lexer": "ipython3",
   "version": "3.12.4"
  }
 },
 "nbformat": 4,
 "nbformat_minor": 5
}
